{
 "cells": [
  {
   "cell_type": "code",
   "execution_count": 10,
   "metadata": {},
   "outputs": [],
   "source": [
    "import numpy as np\n",
    "import pandas as pd\n",
    "from datetime import datetime"
   ]
  },
  {
   "cell_type": "code",
   "execution_count": 11,
   "metadata": {},
   "outputs": [],
   "source": [
    "from pymongo import MongoClient\n",
    "mongoClient = MongoClient()\n",
    "db = mongoClient.tweets"
   ]
  },
  {
   "cell_type": "code",
   "execution_count": 12,
   "metadata": {},
   "outputs": [],
   "source": [
    "from configparser import ConfigParser\n",
    "parser = ConfigParser()\n",
    "parser.read('../config.ini')\n",
    "query_terms = list(parser.get('FILTER', 'filter_terms').split(','))"
   ]
  },
  {
   "cell_type": "markdown",
   "metadata": {},
   "source": [
    "### Sampling method\n",
    "\n",
    "- Taking 1% tweets of each company\n",
    "- Create a csv file of cleaned data"
   ]
  },
  {
   "cell_type": "code",
   "execution_count": null,
   "metadata": {},
   "outputs": [],
   "source": [
    "count = db['google'].estimated_document_count()\n",
    "tweets = db['google'].find()\n",
    "sample_tweets = []\n",
    "for index in np.random.choice(count, int(count / 100)):\n",
    "    sample_tweets.append(tweets[int(index)])\n",
    "print(len(sample_tweets))"
   ]
  },
  {
   "cell_type": "code",
   "execution_count": null,
   "metadata": {},
   "outputs": [],
   "source": [
    "import csv\n",
    "from Processing import *\n",
    "\n",
    "with open('../data/sample.csv', 'w') as file:\n",
    "    csvwriter = csv.writer(file)\n",
    "    for tweet in sample_tweets:\n",
    "        csvwriter.writerow(extract_tweet_data(tweet))"
   ]
  }
 ],
 "metadata": {
  "kernelspec": {
   "display_name": "Python 3",
   "language": "python",
   "name": "python3"
  },
  "language_info": {
   "codemirror_mode": {
    "name": "ipython",
    "version": 3
   },
   "file_extension": ".py",
   "mimetype": "text/x-python",
   "name": "python",
   "nbconvert_exporter": "python",
   "pygments_lexer": "ipython3",
   "version": "3.6.9"
  }
 },
 "nbformat": 4,
 "nbformat_minor": 4
}
