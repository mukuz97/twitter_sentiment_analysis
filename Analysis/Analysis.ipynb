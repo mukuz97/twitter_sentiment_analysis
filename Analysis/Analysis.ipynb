{
 "cells": [
  {
   "cell_type": "code",
   "execution_count": 1,
   "metadata": {},
   "outputs": [],
   "source": [
    "import numpy as np\n",
    "import pandas as pd\n",
    "import matplotlib.pyplot as plt\n",
    "from datetime import datetime\n",
    "import re"
   ]
  },
  {
   "cell_type": "code",
   "execution_count": 2,
   "metadata": {},
   "outputs": [],
   "source": [
    "IS_SAMPLE_ANALYSIS = True\n",
    "TARGET = 'google'\n",
    "if IS_SAMPLE_ANALYSIS:\n",
    "    TARGET = 'sample_' + TARGET"
   ]
  },
  {
   "cell_type": "code",
   "execution_count": 3,
   "metadata": {},
   "outputs": [],
   "source": [
    "cols = ['text','timestamp','user','tweet_source','tweet_id','user_location','source_device']\n",
    "tweets = pd.read_csv('../data/google_sample.csv', names=cols)"
   ]
  },
  {
   "cell_type": "code",
   "execution_count": 4,
   "metadata": {},
   "outputs": [
    {
     "data": {
      "text/html": [
       "<div>\n",
       "<style scoped>\n",
       "    .dataframe tbody tr th:only-of-type {\n",
       "        vertical-align: middle;\n",
       "    }\n",
       "\n",
       "    .dataframe tbody tr th {\n",
       "        vertical-align: top;\n",
       "    }\n",
       "\n",
       "    .dataframe thead th {\n",
       "        text-align: right;\n",
       "    }\n",
       "</style>\n",
       "<table border=\"1\" class=\"dataframe\">\n",
       "  <thead>\n",
       "    <tr style=\"text-align: right;\">\n",
       "      <th></th>\n",
       "      <th>text</th>\n",
       "      <th>timestamp</th>\n",
       "      <th>user</th>\n",
       "      <th>tweet_source</th>\n",
       "      <th>tweet_id</th>\n",
       "      <th>user_location</th>\n",
       "      <th>source_device</th>\n",
       "    </tr>\n",
       "  </thead>\n",
       "  <tbody>\n",
       "    <tr>\n",
       "      <th>0</th>\n",
       "      <td>What is going on with this google search fam 😭...</td>\n",
       "      <td>1.584532e+09</td>\n",
       "      <td>_NjokiNgethe</td>\n",
       "      <td>1239972868848406531</td>\n",
       "      <td>1240244950018723841</td>\n",
       "      <td>Nairobi, U.S of AFRICA. 🇰🇪</td>\n",
       "      <td>Twitter for Android</td>\n",
       "    </tr>\n",
       "    <tr>\n",
       "      <th>1</th>\n",
       "      <td>so jisung and google had a bonding moment over...</td>\n",
       "      <td>1.582143e+09</td>\n",
       "      <td>euphoriajeongin</td>\n",
       "      <td>1230210625831342082</td>\n",
       "      <td>1230221687838343171</td>\n",
       "      <td>loving stray kids and bts</td>\n",
       "      <td>Twitter for iPhone</td>\n",
       "    </tr>\n",
       "    <tr>\n",
       "      <th>2</th>\n",
       "      <td>Most Tweeted contestant Sidharth\\n\\nMost Trend...</td>\n",
       "      <td>1.582124e+09</td>\n",
       "      <td>Nita84831447</td>\n",
       "      <td>1230141046807552000</td>\n",
       "      <td>1230142053717282817</td>\n",
       "      <td>NaN</td>\n",
       "      <td>Twitter for Android</td>\n",
       "    </tr>\n",
       "    <tr>\n",
       "      <th>3</th>\n",
       "      <td>This really fcking hurts. Someone got into Eti...</td>\n",
       "      <td>1.582118e+09</td>\n",
       "      <td>bowzah103</td>\n",
       "      <td>1229995795568566272</td>\n",
       "      <td>1230118798226837504</td>\n",
       "      <td>dunno really</td>\n",
       "      <td>Twitter for Android</td>\n",
       "    </tr>\n",
       "    <tr>\n",
       "      <th>4</th>\n",
       "      <td>help bh made a whole website w the google map ...</td>\n",
       "      <td>1.582269e+09</td>\n",
       "      <td>jeonschu</td>\n",
       "      <td>1230742466598277122</td>\n",
       "      <td>1230749414123114496</td>\n",
       "      <td>NaN</td>\n",
       "      <td>Twitter for iPhone</td>\n",
       "    </tr>\n",
       "  </tbody>\n",
       "</table>\n",
       "</div>"
      ],
      "text/plain": [
       "                                                text     timestamp  \\\n",
       "0  What is going on with this google search fam 😭...  1.584532e+09   \n",
       "1  so jisung and google had a bonding moment over...  1.582143e+09   \n",
       "2  Most Tweeted contestant Sidharth\\n\\nMost Trend...  1.582124e+09   \n",
       "3  This really fcking hurts. Someone got into Eti...  1.582118e+09   \n",
       "4  help bh made a whole website w the google map ...  1.582269e+09   \n",
       "\n",
       "              user         tweet_source             tweet_id  \\\n",
       "0     _NjokiNgethe  1239972868848406531  1240244950018723841   \n",
       "1  euphoriajeongin  1230210625831342082  1230221687838343171   \n",
       "2     Nita84831447  1230141046807552000  1230142053717282817   \n",
       "3        bowzah103  1229995795568566272  1230118798226837504   \n",
       "4         jeonschu  1230742466598277122  1230749414123114496   \n",
       "\n",
       "                user_location        source_device  \n",
       "0  Nairobi, U.S of AFRICA. 🇰🇪  Twitter for Android  \n",
       "1   loving stray kids and bts   Twitter for iPhone  \n",
       "2                         NaN  Twitter for Android  \n",
       "3                dunno really  Twitter for Android  \n",
       "4                         NaN   Twitter for iPhone  "
      ]
     },
     "execution_count": 4,
     "metadata": {},
     "output_type": "execute_result"
    }
   ],
   "source": [
    "tweets.head()"
   ]
  },
  {
   "cell_type": "markdown",
   "metadata": {},
   "source": [
    "### Tweet distribution over time"
   ]
  },
  {
   "cell_type": "code",
   "execution_count": 5,
   "metadata": {},
   "outputs": [],
   "source": [
    "dates = pd.DataFrame(tweets['timestamp']/1000)"
   ]
  },
  {
   "cell_type": "code",
   "execution_count": 6,
   "metadata": {},
   "outputs": [
    {
     "data": {
      "image/png": "[encoded data removed]",
      "text/plain": [
       "<Figure size 1080x720 with 1 Axes>"
      ]
     },
     "metadata": {
      "needs_background": "light"
     },
     "output_type": "display_data"
    }
   ],
   "source": [
    "dates.hist(bins=100, figsize=(15,10))\n",
    "plt.title('Tweet distribution over time')\n",
    "plt.show()"
   ]
  },
  {
   "cell_type": "markdown",
   "metadata": {},
   "source": [
    "### Cleaning\n",
    "- Remove\n",
    "    - All urls\n",
    "    - '#' form infront of hashtags\n",
    "    - mentions\n",
    "    - emojis\n",
    "    - Non ASCII chanracters"
   ]
  },
  {
   "cell_type": "code",
   "execution_count": 7,
   "metadata": {},
   "outputs": [],
   "source": [
    "import re\n",
    "import preprocessor as p\n",
    "\n",
    "# Don't remove hastags\n",
    "p.set_options(p.OPT.URL, p.OPT.EMOJI, p.OPT.NUMBER, p.OPT.SMILEY, p.OPT.RESERVED, p.OPT.MENTION)\n",
    "\n",
    "NOT_BASIC_LATIN_PATTERN = re.compile(u'[^\\u0000-\\u007F]')\n",
    "PUNCTUATIONS_PATTERN = re.compile(r'[\\#\\$\\%\\&\\(\\)\\*\\+\\-\\/\\:\\;\\<\\=\\>\\@\\[\\\\\\]\\^\\_\\`\\{\\|\\}\\~]')\n",
    "MULTIPLE_SPACES_PATTERN = re.compile(r' +')\n",
    "\n",
    "def clean_text(text):\n",
    "    text = text.lower()\n",
    "    text = p.clean(text) # Clean using tweet-preprocessor except hashtags\n",
    "    text = NOT_BASIC_LATIN_PATTERN.sub(' ', text) # Remove everything except basic latin\n",
    "    text = re.sub(r'&amp;', 'and', text)\n",
    "    text = PUNCTUATIONS_PATTERN.sub(' ', text) # Remove all punctuations\n",
    "    text = MULTIPLE_SPACES_PATTERN.sub(' ', text) # Remove multiple consequent spaces\n",
    "    return text.strip()"
   ]
  },
  {
   "cell_type": "code",
   "execution_count": 8,
   "metadata": {},
   "outputs": [
    {
     "data": {
      "text/html": [
       "<div>\n",
       "<style scoped>\n",
       "    .dataframe tbody tr th:only-of-type {\n",
       "        vertical-align: middle;\n",
       "    }\n",
       "\n",
       "    .dataframe tbody tr th {\n",
       "        vertical-align: top;\n",
       "    }\n",
       "\n",
       "    .dataframe thead th {\n",
       "        text-align: right;\n",
       "    }\n",
       "</style>\n",
       "<table border=\"1\" class=\"dataframe\">\n",
       "  <thead>\n",
       "    <tr style=\"text-align: right;\">\n",
       "      <th></th>\n",
       "      <th>text</th>\n",
       "      <th>timestamp</th>\n",
       "      <th>user</th>\n",
       "      <th>tweet_source</th>\n",
       "      <th>tweet_id</th>\n",
       "      <th>user_location</th>\n",
       "      <th>source_device</th>\n",
       "      <th>clean_text</th>\n",
       "    </tr>\n",
       "  </thead>\n",
       "  <tbody>\n",
       "    <tr>\n",
       "      <th>0</th>\n",
       "      <td>What is going on with this google search fam 😭...</td>\n",
       "      <td>1.584532e+09</td>\n",
       "      <td>_NjokiNgethe</td>\n",
       "      <td>1239972868848406531</td>\n",
       "      <td>1240244950018723841</td>\n",
       "      <td>Nairobi, U.S of AFRICA. 🇰🇪</td>\n",
       "      <td>Twitter for Android</td>\n",
       "      <td>what is going on with this google search fam</td>\n",
       "    </tr>\n",
       "    <tr>\n",
       "      <th>1</th>\n",
       "      <td>so jisung and google had a bonding moment over...</td>\n",
       "      <td>1.582143e+09</td>\n",
       "      <td>euphoriajeongin</td>\n",
       "      <td>1230210625831342082</td>\n",
       "      <td>1230221687838343171</td>\n",
       "      <td>loving stray kids and bts</td>\n",
       "      <td>Twitter for iPhone</td>\n",
       "      <td>so jisung and google had a bonding moment over...</td>\n",
       "    </tr>\n",
       "    <tr>\n",
       "      <th>2</th>\n",
       "      <td>Most Tweeted contestant Sidharth\\n\\nMost Trend...</td>\n",
       "      <td>1.582124e+09</td>\n",
       "      <td>Nita84831447</td>\n",
       "      <td>1230141046807552000</td>\n",
       "      <td>1230142053717282817</td>\n",
       "      <td>NaN</td>\n",
       "      <td>Twitter for Android</td>\n",
       "      <td>most tweeted contestant sidharth most trended ...</td>\n",
       "    </tr>\n",
       "    <tr>\n",
       "      <th>3</th>\n",
       "      <td>This really fcking hurts. Someone got into Eti...</td>\n",
       "      <td>1.582118e+09</td>\n",
       "      <td>bowzah103</td>\n",
       "      <td>1229995795568566272</td>\n",
       "      <td>1230118798226837504</td>\n",
       "      <td>dunno really</td>\n",
       "      <td>Twitter for Android</td>\n",
       "      <td>this really fcking hurts. someone got into eti...</td>\n",
       "    </tr>\n",
       "    <tr>\n",
       "      <th>4</th>\n",
       "      <td>help bh made a whole website w the google map ...</td>\n",
       "      <td>1.582269e+09</td>\n",
       "      <td>jeonschu</td>\n",
       "      <td>1230742466598277122</td>\n",
       "      <td>1230749414123114496</td>\n",
       "      <td>NaN</td>\n",
       "      <td>Twitter for iPhone</td>\n",
       "      <td>help bh made a whole website w the google map ...</td>\n",
       "    </tr>\n",
       "  </tbody>\n",
       "</table>\n",
       "</div>"
      ],
      "text/plain": [
       "                                                text     timestamp  \\\n",
       "0  What is going on with this google search fam 😭...  1.584532e+09   \n",
       "1  so jisung and google had a bonding moment over...  1.582143e+09   \n",
       "2  Most Tweeted contestant Sidharth\\n\\nMost Trend...  1.582124e+09   \n",
       "3  This really fcking hurts. Someone got into Eti...  1.582118e+09   \n",
       "4  help bh made a whole website w the google map ...  1.582269e+09   \n",
       "\n",
       "              user         tweet_source             tweet_id  \\\n",
       "0     _NjokiNgethe  1239972868848406531  1240244950018723841   \n",
       "1  euphoriajeongin  1230210625831342082  1230221687838343171   \n",
       "2     Nita84831447  1230141046807552000  1230142053717282817   \n",
       "3        bowzah103  1229995795568566272  1230118798226837504   \n",
       "4         jeonschu  1230742466598277122  1230749414123114496   \n",
       "\n",
       "                user_location        source_device  \\\n",
       "0  Nairobi, U.S of AFRICA. 🇰🇪  Twitter for Android   \n",
       "1   loving stray kids and bts   Twitter for iPhone   \n",
       "2                         NaN  Twitter for Android   \n",
       "3                dunno really  Twitter for Android   \n",
       "4                         NaN   Twitter for iPhone   \n",
       "\n",
       "                                          clean_text  \n",
       "0       what is going on with this google search fam  \n",
       "1  so jisung and google had a bonding moment over...  \n",
       "2  most tweeted contestant sidharth most trended ...  \n",
       "3  this really fcking hurts. someone got into eti...  \n",
       "4  help bh made a whole website w the google map ...  "
      ]
     },
     "execution_count": 8,
     "metadata": {},
     "output_type": "execute_result"
    }
   ],
   "source": [
    "tweets['clean_text'] = tweets['text'].apply(lambda x: clean_text(x))\n",
    "tweets.head()"
   ]
  },
  {
   "cell_type": "markdown",
   "metadata": {},
   "source": [
    "### Analysis of words used in cleaned tweets"
   ]
  },
  {
   "cell_type": "markdown",
   "metadata": {},
   "source": [
    "#### Most used words"
   ]
  },
  {
   "cell_type": "code",
   "execution_count": 9,
   "metadata": {},
   "outputs": [],
   "source": [
    "import nltk\n",
    "from nltk.text import Text\n",
    "from nltk.tokenize import TweetTokenizer\n",
    "import matplotlib.pyplot as plt\n",
    "\n",
    "tokenizer = TweetTokenizer()\n",
    "\n",
    "all_clean_text = []\n",
    "for text in tweets['clean_text']:\n",
    "    for t in tokenizer.tokenize(text):\n",
    "        all_clean_text.append(t)\n",
    "all_clean_text = Text(all_clean_text)"
   ]
  },
  {
   "cell_type": "code",
   "execution_count": 10,
   "metadata": {},
   "outputs": [],
   "source": [
    "freq_dist = nltk.FreqDist(all_clean_text)"
   ]
  },
  {
   "cell_type": "code",
   "execution_count": 11,
   "metadata": {},
   "outputs": [
    {
     "data": {
      "image/png": "[encoded data removed]",
      "text/plain": [
       "<Figure size 1080x576 with 1 Axes>"
      ]
     },
     "metadata": {
      "needs_background": "light"
     },
     "output_type": "display_data"
    },
    {
     "data": {
      "text/plain": [
       "<matplotlib.axes._subplots.AxesSubplot at 0x7f25d6685e80>"
      ]
     },
     "execution_count": 11,
     "metadata": {},
     "output_type": "execute_result"
    }
   ],
   "source": [
    "plt.figure(figsize=(15,8))\n",
    "freq_dist.plot(50, title=\"50 most used tokens\")"
   ]
  },
  {
   "cell_type": "markdown",
   "metadata": {},
   "source": [
    "#### Most used words after removing stop words and punctuations"
   ]
  },
  {
   "cell_type": "code",
   "execution_count": 12,
   "metadata": {},
   "outputs": [],
   "source": [
    "# nltk.download('stopwords')\n",
    "\n",
    "from nltk.corpus import stopwords \n",
    "\n",
    "stop_words = set(stopwords.words('english'))\n",
    "\n",
    "# Add 'google' and 'search' in stop words\n",
    "stop_words.add('google')\n",
    "stop_words.add('search')\n",
    "# Remove stopwords\n",
    "freq_dist = nltk.FreqDist(dict((word, freq) for word, freq in freq_dist.items() if word not in stop_words and word.isalpha()))"
   ]
  },
  {
   "cell_type": "code",
   "execution_count": 13,
   "metadata": {},
   "outputs": [
    {
     "data": {
      "image/png": "[encoded data removed]",
      "text/plain": [
       "<Figure size 1080x576 with 1 Axes>"
      ]
     },
     "metadata": {
      "needs_background": "light"
     },
     "output_type": "display_data"
    },
    {
     "data": {
      "text/plain": [
       "<matplotlib.axes._subplots.AxesSubplot at 0x7f25da3a6d30>"
      ]
     },
     "execution_count": 13,
     "metadata": {},
     "output_type": "execute_result"
    }
   ],
   "source": [
    "plt.figure(figsize=(15,8))\n",
    "freq_dist.plot(50, title=\"50 most used tokens\")"
   ]
  },
  {
   "cell_type": "markdown",
   "metadata": {},
   "source": [
    "### Feature Creation"
   ]
  },
  {
   "cell_type": "markdown",
   "metadata": {},
   "source": [
    "#### 'is_retweet' from 'tweet_source' and 'tweet_id'"
   ]
  },
  {
   "cell_type": "code",
   "execution_count": 14,
   "metadata": {},
   "outputs": [],
   "source": [
    "def is_retweet(x):\n",
    "    return x[0] != x[1]"
   ]
  },
  {
   "cell_type": "code",
   "execution_count": 15,
   "metadata": {},
   "outputs": [],
   "source": [
    "tweets['is_retweet'] = tweets[['tweet_source','tweet_id']].apply(lambda x: is_retweet(x), axis=1)"
   ]
  },
  {
   "cell_type": "code",
   "execution_count": 16,
   "metadata": {},
   "outputs": [
    {
     "data": {
      "text/html": [
       "<div>\n",
       "<style scoped>\n",
       "    .dataframe tbody tr th:only-of-type {\n",
       "        vertical-align: middle;\n",
       "    }\n",
       "\n",
       "    .dataframe tbody tr th {\n",
       "        vertical-align: top;\n",
       "    }\n",
       "\n",
       "    .dataframe thead th {\n",
       "        text-align: right;\n",
       "    }\n",
       "</style>\n",
       "<table border=\"1\" class=\"dataframe\">\n",
       "  <thead>\n",
       "    <tr style=\"text-align: right;\">\n",
       "      <th></th>\n",
       "      <th>text</th>\n",
       "      <th>timestamp</th>\n",
       "      <th>user</th>\n",
       "      <th>tweet_source</th>\n",
       "      <th>tweet_id</th>\n",
       "      <th>user_location</th>\n",
       "      <th>source_device</th>\n",
       "      <th>clean_text</th>\n",
       "      <th>is_retweet</th>\n",
       "    </tr>\n",
       "  </thead>\n",
       "  <tbody>\n",
       "    <tr>\n",
       "      <th>0</th>\n",
       "      <td>What is going on with this google search fam 😭...</td>\n",
       "      <td>1.584532e+09</td>\n",
       "      <td>_NjokiNgethe</td>\n",
       "      <td>1239972868848406531</td>\n",
       "      <td>1240244950018723841</td>\n",
       "      <td>Nairobi, U.S of AFRICA. 🇰🇪</td>\n",
       "      <td>Twitter for Android</td>\n",
       "      <td>what is going on with this google search fam</td>\n",
       "      <td>True</td>\n",
       "    </tr>\n",
       "    <tr>\n",
       "      <th>1</th>\n",
       "      <td>so jisung and google had a bonding moment over...</td>\n",
       "      <td>1.582143e+09</td>\n",
       "      <td>euphoriajeongin</td>\n",
       "      <td>1230210625831342082</td>\n",
       "      <td>1230221687838343171</td>\n",
       "      <td>loving stray kids and bts</td>\n",
       "      <td>Twitter for iPhone</td>\n",
       "      <td>so jisung and google had a bonding moment over...</td>\n",
       "      <td>True</td>\n",
       "    </tr>\n",
       "    <tr>\n",
       "      <th>2</th>\n",
       "      <td>Most Tweeted contestant Sidharth\\n\\nMost Trend...</td>\n",
       "      <td>1.582124e+09</td>\n",
       "      <td>Nita84831447</td>\n",
       "      <td>1230141046807552000</td>\n",
       "      <td>1230142053717282817</td>\n",
       "      <td>NaN</td>\n",
       "      <td>Twitter for Android</td>\n",
       "      <td>most tweeted contestant sidharth most trended ...</td>\n",
       "      <td>True</td>\n",
       "    </tr>\n",
       "    <tr>\n",
       "      <th>3</th>\n",
       "      <td>This really fcking hurts. Someone got into Eti...</td>\n",
       "      <td>1.582118e+09</td>\n",
       "      <td>bowzah103</td>\n",
       "      <td>1229995795568566272</td>\n",
       "      <td>1230118798226837504</td>\n",
       "      <td>dunno really</td>\n",
       "      <td>Twitter for Android</td>\n",
       "      <td>this really fcking hurts. someone got into eti...</td>\n",
       "      <td>True</td>\n",
       "    </tr>\n",
       "    <tr>\n",
       "      <th>4</th>\n",
       "      <td>help bh made a whole website w the google map ...</td>\n",
       "      <td>1.582269e+09</td>\n",
       "      <td>jeonschu</td>\n",
       "      <td>1230742466598277122</td>\n",
       "      <td>1230749414123114496</td>\n",
       "      <td>NaN</td>\n",
       "      <td>Twitter for iPhone</td>\n",
       "      <td>help bh made a whole website w the google map ...</td>\n",
       "      <td>True</td>\n",
       "    </tr>\n",
       "  </tbody>\n",
       "</table>\n",
       "</div>"
      ],
      "text/plain": [
       "                                                text     timestamp  \\\n",
       "0  What is going on with this google search fam 😭...  1.584532e+09   \n",
       "1  so jisung and google had a bonding moment over...  1.582143e+09   \n",
       "2  Most Tweeted contestant Sidharth\\n\\nMost Trend...  1.582124e+09   \n",
       "3  This really fcking hurts. Someone got into Eti...  1.582118e+09   \n",
       "4  help bh made a whole website w the google map ...  1.582269e+09   \n",
       "\n",
       "              user         tweet_source             tweet_id  \\\n",
       "0     _NjokiNgethe  1239972868848406531  1240244950018723841   \n",
       "1  euphoriajeongin  1230210625831342082  1230221687838343171   \n",
       "2     Nita84831447  1230141046807552000  1230142053717282817   \n",
       "3        bowzah103  1229995795568566272  1230118798226837504   \n",
       "4         jeonschu  1230742466598277122  1230749414123114496   \n",
       "\n",
       "                user_location        source_device  \\\n",
       "0  Nairobi, U.S of AFRICA. 🇰🇪  Twitter for Android   \n",
       "1   loving stray kids and bts   Twitter for iPhone   \n",
       "2                         NaN  Twitter for Android   \n",
       "3                dunno really  Twitter for Android   \n",
       "4                         NaN   Twitter for iPhone   \n",
       "\n",
       "                                          clean_text  is_retweet  \n",
       "0       what is going on with this google search fam        True  \n",
       "1  so jisung and google had a bonding moment over...        True  \n",
       "2  most tweeted contestant sidharth most trended ...        True  \n",
       "3  this really fcking hurts. someone got into eti...        True  \n",
       "4  help bh made a whole website w the google map ...        True  "
      ]
     },
     "execution_count": 16,
     "metadata": {},
     "output_type": "execute_result"
    }
   ],
   "source": [
    "tweets.head()"
   ]
  },
  {
   "cell_type": "markdown",
   "metadata": {},
   "source": [
    "#### 'hashtags' from 'text'"
   ]
  },
  {
   "cell_type": "code",
   "execution_count": 40,
   "metadata": {},
   "outputs": [],
   "source": [
    "HASHTAG_PATTERN = re.compile(r'#\\w*')\n",
    "def get_hashtags(text):\n",
    "    return ' '.join(HASHTAG_PATTERN.findall(text))"
   ]
  },
  {
   "cell_type": "code",
   "execution_count": 41,
   "metadata": {},
   "outputs": [],
   "source": [
    "tweets['hashtags'] = tweets['text'].apply(lambda x: get_hashtags(x))"
   ]
  },
  {
   "cell_type": "code",
   "execution_count": 43,
   "metadata": {},
   "outputs": [
    {
     "data": {
      "text/html": [
       "<div>\n",
       "<style scoped>\n",
       "    .dataframe tbody tr th:only-of-type {\n",
       "        vertical-align: middle;\n",
       "    }\n",
       "\n",
       "    .dataframe tbody tr th {\n",
       "        vertical-align: top;\n",
       "    }\n",
       "\n",
       "    .dataframe thead th {\n",
       "        text-align: right;\n",
       "    }\n",
       "</style>\n",
       "<table border=\"1\" class=\"dataframe\">\n",
       "  <thead>\n",
       "    <tr style=\"text-align: right;\">\n",
       "      <th></th>\n",
       "      <th>text</th>\n",
       "      <th>timestamp</th>\n",
       "      <th>user</th>\n",
       "      <th>tweet_source</th>\n",
       "      <th>tweet_id</th>\n",
       "      <th>user_location</th>\n",
       "      <th>source_device</th>\n",
       "      <th>clean_text</th>\n",
       "      <th>is_retweet</th>\n",
       "      <th>hashtags</th>\n",
       "    </tr>\n",
       "  </thead>\n",
       "  <tbody>\n",
       "    <tr>\n",
       "      <th>0</th>\n",
       "      <td>What is going on with this google search fam 😭...</td>\n",
       "      <td>1.584532e+09</td>\n",
       "      <td>_NjokiNgethe</td>\n",
       "      <td>1239972868848406531</td>\n",
       "      <td>1240244950018723841</td>\n",
       "      <td>Nairobi, U.S of AFRICA. 🇰🇪</td>\n",
       "      <td>Twitter for Android</td>\n",
       "      <td>what is going on with this google search fam</td>\n",
       "      <td>True</td>\n",
       "      <td></td>\n",
       "    </tr>\n",
       "    <tr>\n",
       "      <th>1</th>\n",
       "      <td>so jisung and google had a bonding moment over...</td>\n",
       "      <td>1.582143e+09</td>\n",
       "      <td>euphoriajeongin</td>\n",
       "      <td>1230210625831342082</td>\n",
       "      <td>1230221687838343171</td>\n",
       "      <td>loving stray kids and bts</td>\n",
       "      <td>Twitter for iPhone</td>\n",
       "      <td>so jisung and google had a bonding moment over...</td>\n",
       "      <td>True</td>\n",
       "      <td></td>\n",
       "    </tr>\n",
       "    <tr>\n",
       "      <th>2</th>\n",
       "      <td>Most Tweeted contestant Sidharth\\n\\nMost Trend...</td>\n",
       "      <td>1.582124e+09</td>\n",
       "      <td>Nita84831447</td>\n",
       "      <td>1230141046807552000</td>\n",
       "      <td>1230142053717282817</td>\n",
       "      <td>NaN</td>\n",
       "      <td>Twitter for Android</td>\n",
       "      <td>most tweeted contestant sidharth most trended ...</td>\n",
       "      <td>True</td>\n",
       "      <td>#SidharthShuklaFever</td>\n",
       "    </tr>\n",
       "    <tr>\n",
       "      <th>3</th>\n",
       "      <td>This really fcking hurts. Someone got into Eti...</td>\n",
       "      <td>1.582118e+09</td>\n",
       "      <td>bowzah103</td>\n",
       "      <td>1229995795568566272</td>\n",
       "      <td>1230118798226837504</td>\n",
       "      <td>dunno really</td>\n",
       "      <td>Twitter for Android</td>\n",
       "      <td>this really fcking hurts. someone got into eti...</td>\n",
       "      <td>True</td>\n",
       "      <td></td>\n",
       "    </tr>\n",
       "    <tr>\n",
       "      <th>4</th>\n",
       "      <td>help bh made a whole website w the google map ...</td>\n",
       "      <td>1.582269e+09</td>\n",
       "      <td>jeonschu</td>\n",
       "      <td>1230742466598277122</td>\n",
       "      <td>1230749414123114496</td>\n",
       "      <td>NaN</td>\n",
       "      <td>Twitter for iPhone</td>\n",
       "      <td>help bh made a whole website w the google map ...</td>\n",
       "      <td>True</td>\n",
       "      <td>#BTSxGRANDCENTRAL</td>\n",
       "    </tr>\n",
       "  </tbody>\n",
       "</table>\n",
       "</div>"
      ],
      "text/plain": [
       "                                                text     timestamp  \\\n",
       "0  What is going on with this google search fam 😭...  1.584532e+09   \n",
       "1  so jisung and google had a bonding moment over...  1.582143e+09   \n",
       "2  Most Tweeted contestant Sidharth\\n\\nMost Trend...  1.582124e+09   \n",
       "3  This really fcking hurts. Someone got into Eti...  1.582118e+09   \n",
       "4  help bh made a whole website w the google map ...  1.582269e+09   \n",
       "\n",
       "              user         tweet_source             tweet_id  \\\n",
       "0     _NjokiNgethe  1239972868848406531  1240244950018723841   \n",
       "1  euphoriajeongin  1230210625831342082  1230221687838343171   \n",
       "2     Nita84831447  1230141046807552000  1230142053717282817   \n",
       "3        bowzah103  1229995795568566272  1230118798226837504   \n",
       "4         jeonschu  1230742466598277122  1230749414123114496   \n",
       "\n",
       "                user_location        source_device  \\\n",
       "0  Nairobi, U.S of AFRICA. 🇰🇪  Twitter for Android   \n",
       "1   loving stray kids and bts   Twitter for iPhone   \n",
       "2                         NaN  Twitter for Android   \n",
       "3                dunno really  Twitter for Android   \n",
       "4                         NaN   Twitter for iPhone   \n",
       "\n",
       "                                          clean_text  is_retweet  \\\n",
       "0       what is going on with this google search fam        True   \n",
       "1  so jisung and google had a bonding moment over...        True   \n",
       "2  most tweeted contestant sidharth most trended ...        True   \n",
       "3  this really fcking hurts. someone got into eti...        True   \n",
       "4  help bh made a whole website w the google map ...        True   \n",
       "\n",
       "               hashtags  \n",
       "0                        \n",
       "1                        \n",
       "2  #SidharthShuklaFever  \n",
       "3                        \n",
       "4     #BTSxGRANDCENTRAL  "
      ]
     },
     "execution_count": 43,
     "metadata": {},
     "output_type": "execute_result"
    }
   ],
   "source": [
    "tweets.head()"
   ]
  },
  {
   "cell_type": "code",
   "execution_count": null,
   "metadata": {},
   "outputs": [],
   "source": []
  }
 ],
 "metadata": {
  "kernelspec": {
   "display_name": "Python 3",
   "language": "python",
   "name": "python3"
  },
  "language_info": {
   "codemirror_mode": {
    "name": "ipython",
    "version": 3
   },
   "file_extension": ".py",
   "mimetype": "text/x-python",
   "name": "python",
   "nbconvert_exporter": "python",
   "pygments_lexer": "ipython3",
   "version": "3.6.9"
  }
 },
 "nbformat": 4,
 "nbformat_minor": 4
}
